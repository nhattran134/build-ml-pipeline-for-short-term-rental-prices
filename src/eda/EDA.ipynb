{
 "cells": [
  {
   "cell_type": "code",
   "execution_count": 1,
   "id": "53d5ac8a",
   "metadata": {},
   "outputs": [],
   "source": [
    "import wandb\n",
    "import pandas as pd\n",
    "import pandas_profiling"
   ]
  },
  {
   "cell_type": "code",
   "execution_count": 2,
   "id": "c9faa146",
   "metadata": {},
   "outputs": [
    {
     "name": "stderr",
     "output_type": "stream",
     "text": [
      "Failed to detect the name of this notebook, you can set it manually with the WANDB_NOTEBOOK_NAME environment variable to enable code saving.\n",
      "\u001b[34m\u001b[1mwandb\u001b[0m: Currently logged in as: \u001b[33mnhattran134\u001b[0m. Use \u001b[1m`wandb login --relogin`\u001b[0m to force relogin\n"
     ]
    },
    {
     "data": {
      "text/html": [
       "Tracking run with wandb version 0.15.4"
      ],
      "text/plain": [
       "<IPython.core.display.HTML object>"
      ]
     },
     "metadata": {},
     "output_type": "display_data"
    },
    {
     "data": {
      "text/html": [
       "Run data is saved locally in <code>/home/nathan/build-ml-pipeline-for-short-term-rental-prices/src/eda/wandb/run-20230620_021856-256firlc</code>"
      ],
      "text/plain": [
       "<IPython.core.display.HTML object>"
      ]
     },
     "metadata": {},
     "output_type": "display_data"
    },
    {
     "data": {
      "text/html": [
       "Syncing run <strong><a href='https://wandb.ai/nhattran134/nyc_airbnb/runs/256firlc' target=\"_blank\">sandy-sky-14</a></strong> to <a href='https://wandb.ai/nhattran134/nyc_airbnb' target=\"_blank\">Weights & Biases</a> (<a href='https://wandb.me/run' target=\"_blank\">docs</a>)<br/>"
      ],
      "text/plain": [
       "<IPython.core.display.HTML object>"
      ]
     },
     "metadata": {},
     "output_type": "display_data"
    },
    {
     "data": {
      "text/html": [
       " View project at <a href='https://wandb.ai/nhattran134/nyc_airbnb' target=\"_blank\">https://wandb.ai/nhattran134/nyc_airbnb</a>"
      ],
      "text/plain": [
       "<IPython.core.display.HTML object>"
      ]
     },
     "metadata": {},
     "output_type": "display_data"
    },
    {
     "data": {
      "text/html": [
       " View run at <a href='https://wandb.ai/nhattran134/nyc_airbnb/runs/256firlc' target=\"_blank\">https://wandb.ai/nhattran134/nyc_airbnb/runs/256firlc</a>"
      ],
      "text/plain": [
       "<IPython.core.display.HTML object>"
      ]
     },
     "metadata": {},
     "output_type": "display_data"
    }
   ],
   "source": [
    "run = wandb.init(project=\"nyc_airbnb\", group=\"eda\", save_code=True)\n",
    "local_path = wandb.use_artifact(\"sample.csv:latest\").file()\n",
    "df = pd.read_csv(local_path)"
   ]
  },
  {
   "cell_type": "code",
   "execution_count": 3,
   "id": "0f1b0655",
   "metadata": {},
   "outputs": [
    {
     "data": {
      "text/html": [
       "<div>\n",
       "<style scoped>\n",
       "    .dataframe tbody tr th:only-of-type {\n",
       "        vertical-align: middle;\n",
       "    }\n",
       "\n",
       "    .dataframe tbody tr th {\n",
       "        vertical-align: top;\n",
       "    }\n",
       "\n",
       "    .dataframe thead th {\n",
       "        text-align: right;\n",
       "    }\n",
       "</style>\n",
       "<table border=\"1\" class=\"dataframe\">\n",
       "  <thead>\n",
       "    <tr style=\"text-align: right;\">\n",
       "      <th></th>\n",
       "      <th>id</th>\n",
       "      <th>name</th>\n",
       "      <th>host_id</th>\n",
       "      <th>host_name</th>\n",
       "      <th>neighbourhood_group</th>\n",
       "      <th>neighbourhood</th>\n",
       "      <th>latitude</th>\n",
       "      <th>longitude</th>\n",
       "      <th>room_type</th>\n",
       "      <th>price</th>\n",
       "      <th>minimum_nights</th>\n",
       "      <th>number_of_reviews</th>\n",
       "      <th>last_review</th>\n",
       "      <th>reviews_per_month</th>\n",
       "      <th>calculated_host_listings_count</th>\n",
       "      <th>availability_365</th>\n",
       "    </tr>\n",
       "  </thead>\n",
       "  <tbody>\n",
       "    <tr>\n",
       "      <th>0</th>\n",
       "      <td>9138664</td>\n",
       "      <td>Private Lg Room 15 min to Manhattan</td>\n",
       "      <td>47594947</td>\n",
       "      <td>Iris</td>\n",
       "      <td>Queens</td>\n",
       "      <td>Sunnyside</td>\n",
       "      <td>40.74271</td>\n",
       "      <td>-73.92493</td>\n",
       "      <td>Private room</td>\n",
       "      <td>74</td>\n",
       "      <td>2</td>\n",
       "      <td>6</td>\n",
       "      <td>2019-05-26</td>\n",
       "      <td>0.13</td>\n",
       "      <td>1</td>\n",
       "      <td>5</td>\n",
       "    </tr>\n",
       "    <tr>\n",
       "      <th>1</th>\n",
       "      <td>31444015</td>\n",
       "      <td>TIME SQUARE CHARMING ONE BED IN HELL'S KITCHEN...</td>\n",
       "      <td>8523790</td>\n",
       "      <td>Johlex</td>\n",
       "      <td>Manhattan</td>\n",
       "      <td>Hell's Kitchen</td>\n",
       "      <td>40.76682</td>\n",
       "      <td>-73.98878</td>\n",
       "      <td>Entire home/apt</td>\n",
       "      <td>170</td>\n",
       "      <td>3</td>\n",
       "      <td>0</td>\n",
       "      <td>NaN</td>\n",
       "      <td>NaN</td>\n",
       "      <td>1</td>\n",
       "      <td>188</td>\n",
       "    </tr>\n",
       "    <tr>\n",
       "      <th>2</th>\n",
       "      <td>8741020</td>\n",
       "      <td>Voted #1 Location Quintessential 1BR W Village...</td>\n",
       "      <td>45854238</td>\n",
       "      <td>John</td>\n",
       "      <td>Manhattan</td>\n",
       "      <td>West Village</td>\n",
       "      <td>40.73631</td>\n",
       "      <td>-74.00611</td>\n",
       "      <td>Entire home/apt</td>\n",
       "      <td>245</td>\n",
       "      <td>3</td>\n",
       "      <td>51</td>\n",
       "      <td>2018-09-19</td>\n",
       "      <td>1.12</td>\n",
       "      <td>1</td>\n",
       "      <td>0</td>\n",
       "    </tr>\n",
       "    <tr>\n",
       "      <th>3</th>\n",
       "      <td>34602077</td>\n",
       "      <td>Spacious 1 bedroom apartment 15min from Manhattan</td>\n",
       "      <td>261055465</td>\n",
       "      <td>Regan</td>\n",
       "      <td>Queens</td>\n",
       "      <td>Astoria</td>\n",
       "      <td>40.76424</td>\n",
       "      <td>-73.92351</td>\n",
       "      <td>Entire home/apt</td>\n",
       "      <td>125</td>\n",
       "      <td>3</td>\n",
       "      <td>1</td>\n",
       "      <td>2019-05-24</td>\n",
       "      <td>0.65</td>\n",
       "      <td>1</td>\n",
       "      <td>13</td>\n",
       "    </tr>\n",
       "    <tr>\n",
       "      <th>4</th>\n",
       "      <td>23203149</td>\n",
       "      <td>Big beautiful bedroom in huge Bushwick apartment</td>\n",
       "      <td>143460</td>\n",
       "      <td>Megan</td>\n",
       "      <td>Brooklyn</td>\n",
       "      <td>Bushwick</td>\n",
       "      <td>40.69839</td>\n",
       "      <td>-73.92044</td>\n",
       "      <td>Private room</td>\n",
       "      <td>65</td>\n",
       "      <td>2</td>\n",
       "      <td>8</td>\n",
       "      <td>2019-06-23</td>\n",
       "      <td>0.52</td>\n",
       "      <td>2</td>\n",
       "      <td>8</td>\n",
       "    </tr>\n",
       "  </tbody>\n",
       "</table>\n",
       "</div>"
      ],
      "text/plain": [
       "         id                                               name    host_id  \\\n",
       "0   9138664                Private Lg Room 15 min to Manhattan   47594947   \n",
       "1  31444015  TIME SQUARE CHARMING ONE BED IN HELL'S KITCHEN...    8523790   \n",
       "2   8741020  Voted #1 Location Quintessential 1BR W Village...   45854238   \n",
       "3  34602077  Spacious 1 bedroom apartment 15min from Manhattan  261055465   \n",
       "4  23203149   Big beautiful bedroom in huge Bushwick apartment     143460   \n",
       "\n",
       "  host_name neighbourhood_group   neighbourhood  latitude  longitude  \\\n",
       "0      Iris              Queens       Sunnyside  40.74271  -73.92493   \n",
       "1    Johlex           Manhattan  Hell's Kitchen  40.76682  -73.98878   \n",
       "2      John           Manhattan    West Village  40.73631  -74.00611   \n",
       "3     Regan              Queens         Astoria  40.76424  -73.92351   \n",
       "4     Megan            Brooklyn        Bushwick  40.69839  -73.92044   \n",
       "\n",
       "         room_type  price  minimum_nights  number_of_reviews last_review  \\\n",
       "0     Private room     74               2                  6  2019-05-26   \n",
       "1  Entire home/apt    170               3                  0         NaN   \n",
       "2  Entire home/apt    245               3                 51  2018-09-19   \n",
       "3  Entire home/apt    125               3                  1  2019-05-24   \n",
       "4     Private room     65               2                  8  2019-06-23   \n",
       "\n",
       "   reviews_per_month  calculated_host_listings_count  availability_365  \n",
       "0               0.13                               1                 5  \n",
       "1                NaN                               1               188  \n",
       "2               1.12                               1                 0  \n",
       "3               0.65                               1                13  \n",
       "4               0.52                               2                 8  "
      ]
     },
     "execution_count": 3,
     "metadata": {},
     "output_type": "execute_result"
    }
   ],
   "source": [
    "df.head()"
   ]
  },
  {
   "cell_type": "code",
   "execution_count": 4,
   "id": "1c9d7339",
   "metadata": {
    "scrolled": false
   },
   "outputs": [
    {
     "data": {
      "application/vnd.jupyter.widget-view+json": {
       "model_id": "cbcfcfbe48724f0db4fb25dceb37955b",
       "version_major": 2,
       "version_minor": 0
      },
      "text/plain": [
       "Summarize dataset:   0%|          | 0/5 [00:00<?, ?it/s]"
      ]
     },
     "metadata": {},
     "output_type": "display_data"
    },
    {
     "data": {
      "application/vnd.jupyter.widget-view+json": {
       "model_id": "86ecb3b59a074f69b18067acace05cc5",
       "version_major": 2,
       "version_minor": 0
      },
      "text/plain": [
       "Generate report structure:   0%|          | 0/1 [00:00<?, ?it/s]"
      ]
     },
     "metadata": {},
     "output_type": "display_data"
    },
    {
     "data": {
      "application/vnd.jupyter.widget-view+json": {
       "model_id": "",
       "version_major": 2,
       "version_minor": 0
      },
      "text/plain": [
       "Render widgets:   0%|          | 0/1 [00:00<?, ?it/s]"
      ]
     },
     "metadata": {},
     "output_type": "display_data"
    },
    {
     "data": {
      "text/html": [
       "<div>\n",
       "<style scoped>\n",
       "    .dataframe tbody tr th:only-of-type {\n",
       "        vertical-align: middle;\n",
       "    }\n",
       "\n",
       "    .dataframe tbody tr th {\n",
       "        vertical-align: top;\n",
       "    }\n",
       "\n",
       "    .dataframe thead th {\n",
       "        text-align: right;\n",
       "    }\n",
       "</style>\n",
       "<table border=\"1\" class=\"dataframe\">\n",
       "  <thead>\n",
       "    <tr style=\"text-align: right;\">\n",
       "      <th></th>\n",
       "      <th>id</th>\n",
       "      <th>host_id</th>\n",
       "      <th>latitude</th>\n",
       "      <th>longitude</th>\n",
       "      <th>price</th>\n",
       "      <th>minimum_nights</th>\n",
       "      <th>number_of_reviews</th>\n",
       "      <th>reviews_per_month</th>\n",
       "      <th>calculated_host_listings_count</th>\n",
       "      <th>availability_365</th>\n",
       "      <th>neighbourhood_group</th>\n",
       "      <th>room_type</th>\n",
       "    </tr>\n",
       "  </thead>\n",
       "  <tbody>\n",
       "    <tr>\n",
       "      <th>id</th>\n",
       "      <td>1.000000</td>\n",
       "      <td>0.558145</td>\n",
       "      <td>-0.001193</td>\n",
       "      <td>0.066518</td>\n",
       "      <td>-0.026606</td>\n",
       "      <td>-0.068274</td>\n",
       "      <td>-0.302146</td>\n",
       "      <td>0.368858</td>\n",
       "      <td>0.133321</td>\n",
       "      <td>0.164731</td>\n",
       "      <td>0.059137</td>\n",
       "      <td>0.070785</td>\n",
       "    </tr>\n",
       "    <tr>\n",
       "      <th>host_id</th>\n",
       "      <td>0.558145</td>\n",
       "      <td>1.000000</td>\n",
       "      <td>0.041903</td>\n",
       "      <td>0.106627</td>\n",
       "      <td>-0.073509</td>\n",
       "      <td>-0.138851</td>\n",
       "      <td>-0.117507</td>\n",
       "      <td>0.275662</td>\n",
       "      <td>0.144830</td>\n",
       "      <td>0.172829</td>\n",
       "      <td>0.098353</td>\n",
       "      <td>0.092035</td>\n",
       "    </tr>\n",
       "    <tr>\n",
       "      <th>latitude</th>\n",
       "      <td>-0.001193</td>\n",
       "      <td>0.041903</td>\n",
       "      <td>1.000000</td>\n",
       "      <td>0.040318</td>\n",
       "      <td>0.138701</td>\n",
       "      <td>0.017124</td>\n",
       "      <td>-0.038288</td>\n",
       "      <td>-0.027334</td>\n",
       "      <td>0.002377</td>\n",
       "      <td>-0.009651</td>\n",
       "      <td>0.538339</td>\n",
       "      <td>0.111624</td>\n",
       "    </tr>\n",
       "    <tr>\n",
       "      <th>longitude</th>\n",
       "      <td>0.066518</td>\n",
       "      <td>0.106627</td>\n",
       "      <td>0.040318</td>\n",
       "      <td>1.000000</td>\n",
       "      <td>-0.436764</td>\n",
       "      <td>-0.121498</td>\n",
       "      <td>0.080778</td>\n",
       "      <td>0.117056</td>\n",
       "      <td>0.062861</td>\n",
       "      <td>0.061113</td>\n",
       "      <td>0.648797</td>\n",
       "      <td>0.153825</td>\n",
       "    </tr>\n",
       "    <tr>\n",
       "      <th>price</th>\n",
       "      <td>-0.026606</td>\n",
       "      <td>-0.073509</td>\n",
       "      <td>0.138701</td>\n",
       "      <td>-0.436764</td>\n",
       "      <td>1.000000</td>\n",
       "      <td>0.103245</td>\n",
       "      <td>-0.050723</td>\n",
       "      <td>-0.018707</td>\n",
       "      <td>-0.101398</td>\n",
       "      <td>0.091799</td>\n",
       "      <td>0.010046</td>\n",
       "      <td>0.022859</td>\n",
       "    </tr>\n",
       "    <tr>\n",
       "      <th>minimum_nights</th>\n",
       "      <td>-0.068274</td>\n",
       "      <td>-0.138851</td>\n",
       "      <td>0.017124</td>\n",
       "      <td>-0.121498</td>\n",
       "      <td>0.103245</td>\n",
       "      <td>1.000000</td>\n",
       "      <td>-0.159285</td>\n",
       "      <td>-0.288277</td>\n",
       "      <td>0.063765</td>\n",
       "      <td>0.081264</td>\n",
       "      <td>0.000000</td>\n",
       "      <td>0.020005</td>\n",
       "    </tr>\n",
       "    <tr>\n",
       "      <th>number_of_reviews</th>\n",
       "      <td>-0.302146</td>\n",
       "      <td>-0.117507</td>\n",
       "      <td>-0.038288</td>\n",
       "      <td>0.080778</td>\n",
       "      <td>-0.050723</td>\n",
       "      <td>-0.159285</td>\n",
       "      <td>1.000000</td>\n",
       "      <td>0.701699</td>\n",
       "      <td>0.057464</td>\n",
       "      <td>0.237886</td>\n",
       "      <td>0.026979</td>\n",
       "      <td>0.000000</td>\n",
       "    </tr>\n",
       "    <tr>\n",
       "      <th>reviews_per_month</th>\n",
       "      <td>0.368858</td>\n",
       "      <td>0.275662</td>\n",
       "      <td>-0.027334</td>\n",
       "      <td>0.117056</td>\n",
       "      <td>-0.018707</td>\n",
       "      <td>-0.288277</td>\n",
       "      <td>0.701699</td>\n",
       "      <td>1.000000</td>\n",
       "      <td>0.144355</td>\n",
       "      <td>0.387509</td>\n",
       "      <td>0.065914</td>\n",
       "      <td>0.017332</td>\n",
       "    </tr>\n",
       "    <tr>\n",
       "      <th>calculated_host_listings_count</th>\n",
       "      <td>0.133321</td>\n",
       "      <td>0.144830</td>\n",
       "      <td>0.002377</td>\n",
       "      <td>0.062861</td>\n",
       "      <td>-0.101398</td>\n",
       "      <td>0.063765</td>\n",
       "      <td>0.057464</td>\n",
       "      <td>0.144355</td>\n",
       "      <td>1.000000</td>\n",
       "      <td>0.407154</td>\n",
       "      <td>0.086084</td>\n",
       "      <td>0.095414</td>\n",
       "    </tr>\n",
       "    <tr>\n",
       "      <th>availability_365</th>\n",
       "      <td>0.164731</td>\n",
       "      <td>0.172829</td>\n",
       "      <td>-0.009651</td>\n",
       "      <td>0.061113</td>\n",
       "      <td>0.091799</td>\n",
       "      <td>0.081264</td>\n",
       "      <td>0.237886</td>\n",
       "      <td>0.387509</td>\n",
       "      <td>0.407154</td>\n",
       "      <td>1.000000</td>\n",
       "      <td>0.075558</td>\n",
       "      <td>0.088758</td>\n",
       "    </tr>\n",
       "    <tr>\n",
       "      <th>neighbourhood_group</th>\n",
       "      <td>0.059137</td>\n",
       "      <td>0.098353</td>\n",
       "      <td>0.538339</td>\n",
       "      <td>0.648797</td>\n",
       "      <td>0.010046</td>\n",
       "      <td>0.000000</td>\n",
       "      <td>0.026979</td>\n",
       "      <td>0.065914</td>\n",
       "      <td>0.086084</td>\n",
       "      <td>0.075558</td>\n",
       "      <td>1.000000</td>\n",
       "      <td>0.124914</td>\n",
       "    </tr>\n",
       "    <tr>\n",
       "      <th>room_type</th>\n",
       "      <td>0.070785</td>\n",
       "      <td>0.092035</td>\n",
       "      <td>0.111624</td>\n",
       "      <td>0.153825</td>\n",
       "      <td>0.022859</td>\n",
       "      <td>0.020005</td>\n",
       "      <td>0.000000</td>\n",
       "      <td>0.017332</td>\n",
       "      <td>0.095414</td>\n",
       "      <td>0.088758</td>\n",
       "      <td>0.124914</td>\n",
       "      <td>1.000000</td>\n",
       "    </tr>\n",
       "  </tbody>\n",
       "</table>\n",
       "</div>"
      ],
      "text/plain": [
       "                                      id   host_id  latitude  longitude  \\\n",
       "id                              1.000000  0.558145 -0.001193   0.066518   \n",
       "host_id                         0.558145  1.000000  0.041903   0.106627   \n",
       "latitude                       -0.001193  0.041903  1.000000   0.040318   \n",
       "longitude                       0.066518  0.106627  0.040318   1.000000   \n",
       "price                          -0.026606 -0.073509  0.138701  -0.436764   \n",
       "minimum_nights                 -0.068274 -0.138851  0.017124  -0.121498   \n",
       "number_of_reviews              -0.302146 -0.117507 -0.038288   0.080778   \n",
       "reviews_per_month               0.368858  0.275662 -0.027334   0.117056   \n",
       "calculated_host_listings_count  0.133321  0.144830  0.002377   0.062861   \n",
       "availability_365                0.164731  0.172829 -0.009651   0.061113   \n",
       "neighbourhood_group             0.059137  0.098353  0.538339   0.648797   \n",
       "room_type                       0.070785  0.092035  0.111624   0.153825   \n",
       "\n",
       "                                   price  minimum_nights  number_of_reviews  \\\n",
       "id                             -0.026606       -0.068274          -0.302146   \n",
       "host_id                        -0.073509       -0.138851          -0.117507   \n",
       "latitude                        0.138701        0.017124          -0.038288   \n",
       "longitude                      -0.436764       -0.121498           0.080778   \n",
       "price                           1.000000        0.103245          -0.050723   \n",
       "minimum_nights                  0.103245        1.000000          -0.159285   \n",
       "number_of_reviews              -0.050723       -0.159285           1.000000   \n",
       "reviews_per_month              -0.018707       -0.288277           0.701699   \n",
       "calculated_host_listings_count -0.101398        0.063765           0.057464   \n",
       "availability_365                0.091799        0.081264           0.237886   \n",
       "neighbourhood_group             0.010046        0.000000           0.026979   \n",
       "room_type                       0.022859        0.020005           0.000000   \n",
       "\n",
       "                                reviews_per_month  \\\n",
       "id                                       0.368858   \n",
       "host_id                                  0.275662   \n",
       "latitude                                -0.027334   \n",
       "longitude                                0.117056   \n",
       "price                                   -0.018707   \n",
       "minimum_nights                          -0.288277   \n",
       "number_of_reviews                        0.701699   \n",
       "reviews_per_month                        1.000000   \n",
       "calculated_host_listings_count           0.144355   \n",
       "availability_365                         0.387509   \n",
       "neighbourhood_group                      0.065914   \n",
       "room_type                                0.017332   \n",
       "\n",
       "                                calculated_host_listings_count  \\\n",
       "id                                                    0.133321   \n",
       "host_id                                               0.144830   \n",
       "latitude                                              0.002377   \n",
       "longitude                                             0.062861   \n",
       "price                                                -0.101398   \n",
       "minimum_nights                                        0.063765   \n",
       "number_of_reviews                                     0.057464   \n",
       "reviews_per_month                                     0.144355   \n",
       "calculated_host_listings_count                        1.000000   \n",
       "availability_365                                      0.407154   \n",
       "neighbourhood_group                                   0.086084   \n",
       "room_type                                             0.095414   \n",
       "\n",
       "                                availability_365  neighbourhood_group  \\\n",
       "id                                      0.164731             0.059137   \n",
       "host_id                                 0.172829             0.098353   \n",
       "latitude                               -0.009651             0.538339   \n",
       "longitude                               0.061113             0.648797   \n",
       "price                                   0.091799             0.010046   \n",
       "minimum_nights                          0.081264             0.000000   \n",
       "number_of_reviews                       0.237886             0.026979   \n",
       "reviews_per_month                       0.387509             0.065914   \n",
       "calculated_host_listings_count          0.407154             0.086084   \n",
       "availability_365                        1.000000             0.075558   \n",
       "neighbourhood_group                     0.075558             1.000000   \n",
       "room_type                               0.088758             0.124914   \n",
       "\n",
       "                                room_type  \n",
       "id                               0.070785  \n",
       "host_id                          0.092035  \n",
       "latitude                         0.111624  \n",
       "longitude                        0.153825  \n",
       "price                            0.022859  \n",
       "minimum_nights                   0.020005  \n",
       "number_of_reviews                0.000000  \n",
       "reviews_per_month                0.017332  \n",
       "calculated_host_listings_count   0.095414  \n",
       "availability_365                 0.088758  \n",
       "neighbourhood_group              0.124914  \n",
       "room_type                        1.000000  "
      ]
     },
     "metadata": {},
     "output_type": "display_data"
    },
    {
     "data": {
      "application/vnd.jupyter.widget-view+json": {
       "model_id": "d6c9bd79ac714c01b6cf4189c539b1c2",
       "version_major": 2,
       "version_minor": 0
      },
      "text/plain": [
       "VBox(children=(Tab(children=(Tab(children=(GridBox(children=(VBox(children=(GridspecLayout(children=(HTML(valu…"
      ]
     },
     "metadata": {},
     "output_type": "display_data"
    }
   ],
   "source": [
    "profile = pandas_profiling.ProfileReport(df)\n",
    "profile.to_widgets()"
   ]
  },
  {
   "cell_type": "code",
   "execution_count": 5,
   "id": "cb89258c",
   "metadata": {},
   "outputs": [],
   "source": [
    "# Drop outliers\n",
    "min_price = 10\n",
    "max_price = 350\n",
    "idx = df['price'].between(min_price, max_price)\n",
    "df = df[idx].copy()\n",
    "# Convert last_review to datetime\n",
    "df['last_review'] = pd.to_datetime(df['last_review'])"
   ]
  },
  {
   "cell_type": "code",
   "execution_count": 6,
   "id": "ea0492d0",
   "metadata": {
    "scrolled": false
   },
   "outputs": [
    {
     "name": "stdout",
     "output_type": "stream",
     "text": [
      "<class 'pandas.core.frame.DataFrame'>\n",
      "Int64Index: 19001 entries, 0 to 19999\n",
      "Data columns (total 16 columns):\n",
      " #   Column                          Non-Null Count  Dtype         \n",
      "---  ------                          --------------  -----         \n",
      " 0   id                              19001 non-null  int64         \n",
      " 1   name                            18994 non-null  object        \n",
      " 2   host_id                         19001 non-null  int64         \n",
      " 3   host_name                       18993 non-null  object        \n",
      " 4   neighbourhood_group             19001 non-null  object        \n",
      " 5   neighbourhood                   19001 non-null  object        \n",
      " 6   latitude                        19001 non-null  float64       \n",
      " 7   longitude                       19001 non-null  float64       \n",
      " 8   room_type                       19001 non-null  object        \n",
      " 9   price                           19001 non-null  int64         \n",
      " 10  minimum_nights                  19001 non-null  int64         \n",
      " 11  number_of_reviews               19001 non-null  int64         \n",
      " 12  last_review                     15243 non-null  datetime64[ns]\n",
      " 13  reviews_per_month               15243 non-null  float64       \n",
      " 14  calculated_host_listings_count  19001 non-null  int64         \n",
      " 15  availability_365                19001 non-null  int64         \n",
      "dtypes: datetime64[ns](1), float64(3), int64(7), object(5)\n",
      "memory usage: 2.5+ MB\n"
     ]
    }
   ],
   "source": [
    "df.info()"
   ]
  },
  {
   "cell_type": "markdown",
   "id": "7a0b8190",
   "metadata": {},
   "source": [
    "Check null percentage"
   ]
  },
  {
   "cell_type": "code",
   "execution_count": 7,
   "id": "9a0d103b",
   "metadata": {
    "scrolled": false
   },
   "outputs": [
    {
     "data": {
      "text/plain": [
       "id                                0.000000\n",
       "name                              0.000368\n",
       "host_id                           0.000000\n",
       "host_name                         0.000421\n",
       "neighbourhood_group               0.000000\n",
       "neighbourhood                     0.000000\n",
       "latitude                          0.000000\n",
       "longitude                         0.000000\n",
       "room_type                         0.000000\n",
       "price                             0.000000\n",
       "minimum_nights                    0.000000\n",
       "number_of_reviews                 0.000000\n",
       "last_review                       0.197779\n",
       "reviews_per_month                 0.197779\n",
       "calculated_host_listings_count    0.000000\n",
       "availability_365                  0.000000\n",
       "dtype: float64"
      ]
     },
     "execution_count": 7,
     "metadata": {},
     "output_type": "execute_result"
    }
   ],
   "source": [
    "df.isna().sum()/len(df)"
   ]
  },
  {
   "cell_type": "code",
   "execution_count": 8,
   "id": "0a7d8cab",
   "metadata": {},
   "outputs": [
    {
     "data": {
      "text/html": [
       "Waiting for W&B process to finish... <strong style=\"color:green\">(success).</strong>"
      ],
      "text/plain": [
       "<IPython.core.display.HTML object>"
      ]
     },
     "metadata": {},
     "output_type": "display_data"
    },
    {
     "data": {
      "application/vnd.jupyter.widget-view+json": {
       "model_id": "b16ee2d43e154937a8eec8e8040c7bc4",
       "version_major": 2,
       "version_minor": 0
      },
      "text/plain": [
       "VBox(children=(Label(value='0.003 MB of 0.003 MB uploaded (0.000 MB deduped)\\r'), FloatProgress(value=1.0, max…"
      ]
     },
     "metadata": {},
     "output_type": "display_data"
    },
    {
     "data": {
      "text/html": [
       " View run <strong style=\"color:#cdcd00\">sandy-sky-14</strong> at: <a href='https://wandb.ai/nhattran134/nyc_airbnb/runs/256firlc' target=\"_blank\">https://wandb.ai/nhattran134/nyc_airbnb/runs/256firlc</a><br/>Synced 7 W&B file(s), 0 media file(s), 0 artifact file(s) and 1 other file(s)"
      ],
      "text/plain": [
       "<IPython.core.display.HTML object>"
      ]
     },
     "metadata": {},
     "output_type": "display_data"
    },
    {
     "data": {
      "text/html": [
       "Find logs at: <code>./wandb/run-20230620_021856-256firlc/logs</code>"
      ],
      "text/plain": [
       "<IPython.core.display.HTML object>"
      ]
     },
     "metadata": {},
     "output_type": "display_data"
    }
   ],
   "source": [
    "run.finish()"
   ]
  }
 ],
 "metadata": {
  "kernelspec": {
   "display_name": "Python 3 (ipykernel)",
   "language": "python",
   "name": "python3"
  },
  "language_info": {
   "codemirror_mode": {
    "name": "ipython",
    "version": 3
   },
   "file_extension": ".py",
   "mimetype": "text/x-python",
   "name": "python",
   "nbconvert_exporter": "python",
   "pygments_lexer": "ipython3",
   "version": "3.9.15"
  }
 },
 "nbformat": 4,
 "nbformat_minor": 5
}
